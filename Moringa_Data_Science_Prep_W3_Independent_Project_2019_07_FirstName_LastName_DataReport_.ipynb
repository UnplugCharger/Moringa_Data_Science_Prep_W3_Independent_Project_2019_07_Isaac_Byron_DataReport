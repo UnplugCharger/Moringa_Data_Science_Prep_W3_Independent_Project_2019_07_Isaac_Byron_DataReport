{
  "nbformat": 4,
  "nbformat_minor": 0,
  "metadata": {
    "colab": {
      "name": "Moringa_Data_Science_Prep_W3_Independent_Project_2019_07_FirstName_LastName_DataReport.",
      "provenance": [],
      "authorship_tag": "ABX9TyP6wxhxV2GX05blJ6kjmEpI",
      "include_colab_link": true
    },
    "kernelspec": {
      "name": "python3",
      "display_name": "Python 3"
    }
  },
  "cells": [
    {
      "cell_type": "markdown",
      "metadata": {
        "id": "view-in-github",
        "colab_type": "text"
      },
      "source": [
        "<a href=\"https://colab.research.google.com/github/UnplugCharger/Moringa_Data_Science_Prep_W3_Independent_Project_2019_07_Isaac_Byron_DataReport/blob/master/Moringa_Data_Science_Prep_W3_Independent_Project_2019_07_FirstName_LastName_DataReport_.ipynb\" target=\"_parent\"><img src=\"https://colab.research.google.com/assets/colab-badge.svg\" alt=\"Open In Colab\"/></a>"
      ]
    },
    {
      "cell_type": "code",
      "metadata": {
        "id": "UNVyUNU4KWmL",
        "colab_type": "code",
        "colab": {}
      },
      "source": [
        ""
      ],
      "execution_count": 0,
      "outputs": []
    }
  ]
}